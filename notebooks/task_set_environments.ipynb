{
 "cells": [
  {
   "cell_type": "code",
   "execution_count": 1,
   "metadata": {},
   "outputs": [],
   "source": [
    "import itertools\n",
    "import typing\n",
    "import numpy as np\n",
    "import matplotlib.pyplot as plt\n",
    "\n",
    "from gym import Env, spaces\n",
    "from neuronav.envs.graph_env import GraphObsType\n",
    "import neuronav.utils as utils\n",
    "from neuronav.agents.base_agent import BaseAgent\n",
    "from neuronav.agents.td_agents import TDQ, TDAC\n",
    "from neuronav.notebook_helpers import AgentParams\n",
    "\n",
    "import gym_minigrid\n",
    "from gym_minigrid.envs import numbertasks\n",
    "from gym_minigrid.envs.numbertasks import NumberTaskType"
   ]
  },
  {
   "cell_type": "code",
   "execution_count": 2,
   "metadata": {},
   "outputs": [],
   "source": [
    "N_STATES = 20\n",
    "SINGLE_TASK_N_ACTIONS = 2\n",
    "NEURONAV_DEFAULT_RESET_KEYS = ('agent_pos', 'reward_locs', 'random_start')\n",
    "\n",
    "class NumberTasksEnv(Env):\n",
    "    def __init__(self, task: NumberTaskType, obs_type: GraphObsType = GraphObsType.index, \n",
    "        switch_tasks: bool = False, multi_task: bool = False, remap_actions: bool = False, seed: int = 33):\n",
    "        self.task = task\n",
    "        self.obs_type = obs_type\n",
    "\n",
    "        self.switch_tasks = switch_tasks\n",
    "        self.multi_task = multi_task\n",
    "        self.remap_actions = remap_actions\n",
    "\n",
    "        self.seed = seed\n",
    "        self.rng = np.random.RandomState(seed)\n",
    "\n",
    "        self.n_actions = SINGLE_TASK_N_ACTIONS if self.multi_task else SINGLE_TASK_N_ACTIONS * len(NumberTaskType)\n",
    "        self.action_permutations = list(itertools.permutations(range(self.n_actions))) if self.remap_actions else [list(range(self.n_actions))]\n",
    "        self.n_action_permutations = len(self.action_permutations)\n",
    "        self.state_size = N_STATES * self.n_action_permutations\n",
    "\n",
    "        if obs_type == GraphObsType.index:\n",
    "            self.observation_space = spaces.Box(0, self.state_size, shape=(1,), dtype=np.int32)\n",
    "\n",
    "        elif obs_type == GraphObsType.onehot:\n",
    "            self.observation_space = spaces.Box(0, 1, shape=(self.state_size,), dtype=np.int32)\n",
    "\n",
    "        elif obs_type == GraphObsType.images:\n",
    "            raise ValueError('Not implemented')\n",
    "\n",
    "        self.action_space = spaces.Discrete(self.n_actions)\n",
    "\n",
    "        self.last_stimulus = None\n",
    "        self.action_permutation_index = 0\n",
    "        \n",
    "\n",
    "    def reset(self, seed: typing.Optional[int] = None, **kwargs):\n",
    "        for key in NEURONAV_DEFAULT_RESET_KEYS:\n",
    "            if key in kwargs:\n",
    "                kwargs.pop(key)\n",
    "\n",
    "        super().reset(seed=seed, **kwargs)\n",
    "        return self.observation\n",
    "\n",
    "    @property\n",
    "    def observation(self):\n",
    "        if self.switch_tasks:\n",
    "            self.task = self.rng.choice(list(NumberTaskType))\n",
    "\n",
    "        if self.remap_actions:\n",
    "            self.action_permutation_index = self.rng.randint(0, self.n_action_permutations)\n",
    "\n",
    "        self.last_stimulus = self.rng.randint(0, N_STATES) + (self.action_permutation_index * N_STATES)\n",
    "        \n",
    "        if self.obs_type == GraphObsType.onehot:\n",
    "            return utils.onehot(self.last_stimulus, self.state_size)\n",
    "        elif self.obs_type == GraphObsType.index:\n",
    "            return self.last_stimulus\n",
    "        else:\n",
    "            return None\n",
    "\n",
    "    def step(self, action: int):\n",
    "        \"\"\"\n",
    "        Assumes that 0-9 are the digits in red and 10-19 are the digits in green\n",
    "        Color task: 0 is red, 1 is green\n",
    "        Magnitude task: 0 is -, 1 is +\n",
    "        Parity task: 0 is even, 1 is odd\n",
    "        \"\"\"\n",
    "        if self.last_stimulus is None:\n",
    "            raise ValueError('No stimulus has been set yet')\n",
    "\n",
    "        stimulus = self.last_stimulus % N_STATES\n",
    "        action_permutation = self.action_permutations[self.action_permutation_index]\n",
    "        action = action_permutation[action]\n",
    "\n",
    "        if self.multi_task:\n",
    "            if self.task == NumberTaskType.color and action < 2:\n",
    "                reward = 1 if (stimulus >= 10) == (action == 1) else -1\n",
    "\n",
    "            elif self.task == NumberTaskType.magnitude and 2 < action < 4:\n",
    "                action -= 2\n",
    "                digit = stimulus % 10\n",
    "                reward = 1 if (digit >= 5) == (action == 1) else -1\n",
    "\n",
    "            elif self.task == NumberTaskType.parity and action >= 4:\n",
    "                action -= 4\n",
    "                reward = 1 if (stimulus % 2) == action else -1\n",
    "            \n",
    "            else: \n",
    "                reward = -1\n",
    "\n",
    "        else:\n",
    "            if self.task == NumberTaskType.color:\n",
    "                reward = 1 if (stimulus >= 10) == (action == 1) else -1\n",
    "\n",
    "            elif self.task == NumberTaskType.magnitude:\n",
    "                digit = stimulus % 10\n",
    "                reward = 1 if (digit >= 5) == (action == 1) else -1\n",
    "\n",
    "            elif self.task == NumberTaskType.parity:\n",
    "                reward = 1 if (stimulus % 2) == action else -1\n",
    "        \n",
    "        return self.observation, reward, False, {}"
   ]
  },
  {
   "cell_type": "code",
   "execution_count": 33,
   "metadata": {},
   "outputs": [],
   "source": [
    "AGENT_PARAMS = AgentParams(\n",
    "    poltype=\"softmax\",\n",
    "    beta=2.0,\n",
    "    epsilon=0.1,\n",
    "    lr=1e-1,\n",
    "    gamma=0,\n",
    ")\n",
    "\n",
    "N_STEPS = 10000\n",
    "\n",
    "AGENT_TYPES = {'TDQ': TDQ, 'TDAC': TDAC}\n"
   ]
  },
  {
   "cell_type": "code",
   "execution_count": 34,
   "metadata": {},
   "outputs": [],
   "source": [
    "def moving_average(a, n=3) :\n",
    "    ret = np.cumsum(a, dtype=float)\n",
    "    ret[n:] = ret[n:] - ret[:-n]\n",
    "    return ret[n - 1:] / n\n",
    "\n",
    "\n",
    "def run_and_plot_multiple_agents(env: Env, agent_types: typing.Dict[str, typing.Type[BaseAgent]] = AGENT_TYPES,\n",
    "    agent_params: AgentParams = AGENT_PARAMS, n_steps: int = N_STEPS, moving_average_window: int = 100,\n",
    "    ax: typing.Optional[plt.Axes] = None, title: str = '', \n",
    "    show_legend: bool = True, legend_loc: str = 'best',):\n",
    "    \n",
    "    agent_rewards = {}\n",
    "    agents = {}\n",
    "\n",
    "    for agent_type, agent_class in agent_types.items():\n",
    "        agent = agent_class(env.state_size, env.action_space.n, **agent_params.__dict__)\n",
    "        agent, _, rewards = utils.run_episode(env, agent, n_steps, track_rewards=True)\n",
    "        agent_rewards[agent_type] = moving_average(rewards, moving_average_window)\n",
    "        agents[agent_type] = agent\n",
    "\n",
    "    if ax is None:\n",
    "        _, ax = plt.subplots()\n",
    "\n",
    "    for agent_type, agent_rewards in agent_rewards.items():\n",
    "        ax.plot(agent_rewards, label=agent_type)\n",
    "\n",
    "    if show_legend:\n",
    "        ax.legend(loc=legend_loc)\n",
    "\n",
    "    ax.set_xlabel('Steps')\n",
    "    ax.set_ylabel(f'Reward ({moving_average_window}-step average)')\n",
    "    ax.set_title(title)\n",
    "\n",
    "    return agents"
   ]
  },
  {
   "cell_type": "code",
   "execution_count": 36,
   "metadata": {},
   "outputs": [
    {
     "data": {
      "image/png": "[encoded data removed]",
      "text/plain": [
       "<Figure size 864x288 with 3 Axes>"
      ]
     },
     "metadata": {
      "needs_background": "light"
     },
     "output_type": "display_data"
    }
   ],
   "source": [
    "fig, axes = plt.subplots(1, 3, figsize=(12, 4))\n",
    "\n",
    "for index, task in enumerate(NumberTaskType):\n",
    "    ax = axes[index]\n",
    "    env = NumberTasksEnv(task=task, obs_type=GraphObsType.index)\n",
    "    agents = run_and_plot_multiple_agents(env, ax=ax, title=task.name.capitalize())"
   ]
  },
  {
   "cell_type": "code",
   "execution_count": 37,
   "metadata": {},
   "outputs": [
    {
     "name": "stdout",
     "output_type": "stream",
     "text": [
      "{0: 0.54, 1: 0.5, 2: 0.55, 3: 0.47, 4: 0.45, 5: 0.47, 6: 0.6, 7: 0.54, 8: 0.51, 9: 0.48, 10: 0.45, 11: 0.58, 12: 0.45, 13: 0.49, 14: 0.49, 15: 0.49, 16: 0.44, 17: 0.54, 18: 0.46, 19: 0.53}\n"
     ]
    },
    {
     "data": {
      "image/png": "[encoded data removed]",
      "text/plain": [
       "<Figure size 432x288 with 2 Axes>"
      ]
     },
     "metadata": {
      "needs_background": "light"
     },
     "output_type": "display_data"
    }
   ],
   "source": [
    "sampled_actions = {\n",
    "    s: np.mean([agents['TDQ'].sample_action(s) for _ in range(100)])\n",
    "    for s in range(N_STATES)\n",
    "}\n",
    "print(sampled_actions)\n",
    "    \n",
    "\n",
    "plt.imshow(agents['TDQ'].Q)\n",
    "plt.colorbar()\n",
    "plt.title(f'Q-table')\n",
    "plt.show()"
   ]
  },
  {
   "cell_type": "code",
   "execution_count": null,
   "metadata": {},
   "outputs": [],
   "source": [
    "task_switch_env = NumberTasksEnv(task=task, obs_type=GraphObsType.index, switch_tasks=True)\n",
    "task_switch_q_agent = TDQ(task_switch_env.state_size, task_switch_env.action_space.n, **AGENT_PARAMS.__dict__)\n",
    "\n",
    "utils.run_episode(task_switch_env, task_switch_q_agent, N_STEPS * 10)\n",
    "plt.imshow(task_switch_q_agent.Q)\n",
    "plt.colorbar()\n",
    "plt.title(f'Task Switching Q-table')\n",
    "plt.show()"
   ]
  },
  {
   "cell_type": "code",
   "execution_count": null,
   "metadata": {},
   "outputs": [],
   "source": [
    "multi_task_switch_env = NumberTasksEnv(task=task, obs_type=GraphObsType.index, switch_tasks=True, multi_task=True)\n",
    "multi_task_switch_q_agent = TDQ(multi_task_switch_env.state_size, multi_task_switch_env.action_space.n, **AGENT_PARAMS.__dict__)\n",
    "\n",
    "utils.run_episode(multi_task_switch_env, multi_task_switch_q_agent, N_STEPS * 10)\n",
    "plt.imshow(multi_task_switch_q_agent.Q)\n",
    "plt.colorbar()\n",
    "plt.title(f'Task Switching with multiple outputs Q-table')\n",
    "plt.show()"
   ]
  },
  {
   "cell_type": "code",
   "execution_count": 38,
   "metadata": {},
   "outputs": [
    {
     "data": {
      "text/plain": [
       "7"
      ]
     },
     "execution_count": 38,
     "metadata": {},
     "output_type": "execute_result"
    }
   ],
   "source": [
    "env = NumberTasksEnv(task=NumberTaskType.parity, obs_type=GraphObsType.index)\n",
    "env.reset()"
   ]
  },
  {
   "cell_type": "code",
   "execution_count": 43,
   "metadata": {},
   "outputs": [],
   "source": [
    "env.step(1)"
   ]
  },
  {
   "cell_type": "code",
   "execution_count": null,
   "metadata": {},
   "outputs": [],
   "source": []
  }
 ],
 "metadata": {
  "interpreter": {
   "hash": "d8775025b178470b7b487df744aa50e287915f8de1ad29ac834985f09f2d3ff0"
  },
  "kernelspec": {
   "display_name": "Python 3.9.12 ('minigrid')",
   "language": "python",
   "name": "python3"
  },
  "language_info": {
   "codemirror_mode": {
    "name": "ipython",
    "version": 3
   },
   "file_extension": ".py",
   "mimetype": "text/x-python",
   "name": "python",
   "nbconvert_exporter": "python",
   "pygments_lexer": "ipython3",
   "version": "3.9.12"
  },
  "orig_nbformat": 4
 },
 "nbformat": 4,
 "nbformat_minor": 2
}
